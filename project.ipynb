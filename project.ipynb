{
 "cells": [
  {
   "cell_type": "markdown",
   "metadata": {},
   "source": [
    "# Fundamentals of Data Analysis Project"
   ]
  },
  {
   "cell_type": "markdown",
   "metadata": {},
   "source": [
    "**Neil Anglim**\n",
    "***"
   ]
  },
  {
   "cell_type": "markdown",
   "metadata": {},
   "source": [
    "# Project brief"
   ]
  },
  {
   "cell_type": "markdown",
   "metadata": {},
   "source": [
    "- The project is to create a notebook investigating the variables and data points within the well-known iris flower data set associated with Ronald A Fisher.\n",
    "- In the notebook, you should discuss the classification of each variable within the data set according to common variable types and scales of measurement in mathematics, statistics, and Python.\n",
    "- Select, demonstrate, and explain the most appropriate summary statistics to describe each variable.\n",
    "- Select, demonstrate, and explain the most appropriate plot(s) for each variable.\n",
    "- The notebook should follow a cohesive narrative about the data set\n"
   ]
  },
  {
   "cell_type": "markdown",
   "metadata": {},
   "source": [
    "# Begin"
   ]
  },
  {
   "cell_type": "markdown",
   "metadata": {},
   "source": [
    "***\n",
    "\n",
    "## End"
   ]
  }
 ],
 "metadata": {
  "language_info": {
   "name": "python"
  },
  "orig_nbformat": 4
 },
 "nbformat": 4,
 "nbformat_minor": 2
}
